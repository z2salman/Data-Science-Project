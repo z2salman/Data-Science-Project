{
 "cells": [
  {
   "cell_type": "markdown",
   "metadata": {},
   "source": [
    "## 0: Import the data"
   ]
  },
  {
   "cell_type": "code",
   "execution_count": 1,
   "metadata": {},
   "outputs": [],
   "source": [
    "import os\n",
    "os.getcwd()\n",
    "os.chdir('C:\\\\Users\\\\zain.syed\\\\Desktop\\\\University of toronto\\\\3250 - Intro to Data Science\\\\project\\\\data\\\\cardataset')"
   ]
  },
  {
   "cell_type": "code",
   "execution_count": 2,
   "metadata": {},
   "outputs": [],
   "source": [
    "import pandas as pd\n",
    "import numpy as np\n",
    "\n",
    "data= pd.read_csv('data.csv')\n",
    "\n"
   ]
  },
  {
   "cell_type": "code",
   "execution_count": 3,
   "metadata": {},
   "outputs": [
    {
     "data": {
      "text/html": [
       "<div>\n",
       "<style scoped>\n",
       "    .dataframe tbody tr th:only-of-type {\n",
       "        vertical-align: middle;\n",
       "    }\n",
       "\n",
       "    .dataframe tbody tr th {\n",
       "        vertical-align: top;\n",
       "    }\n",
       "\n",
       "    .dataframe thead th {\n",
       "        text-align: right;\n",
       "    }\n",
       "</style>\n",
       "<table border=\"1\" class=\"dataframe\">\n",
       "  <thead>\n",
       "    <tr style=\"text-align: right;\">\n",
       "      <th></th>\n",
       "      <th>Make</th>\n",
       "      <th>Model</th>\n",
       "      <th>Year</th>\n",
       "      <th>Engine Fuel Type</th>\n",
       "      <th>Engine HP</th>\n",
       "      <th>Engine Cylinders</th>\n",
       "      <th>Transmission Type</th>\n",
       "      <th>Driven_Wheels</th>\n",
       "      <th>Number of Doors</th>\n",
       "      <th>Market Category</th>\n",
       "      <th>Vehicle Size</th>\n",
       "      <th>Vehicle Style</th>\n",
       "      <th>highway MPG</th>\n",
       "      <th>city mpg</th>\n",
       "      <th>Popularity</th>\n",
       "      <th>MSRP</th>\n",
       "    </tr>\n",
       "  </thead>\n",
       "  <tbody>\n",
       "    <tr>\n",
       "      <th>0</th>\n",
       "      <td>BMW</td>\n",
       "      <td>1 Series M</td>\n",
       "      <td>2011</td>\n",
       "      <td>premium unleaded (required)</td>\n",
       "      <td>335.0</td>\n",
       "      <td>6.0</td>\n",
       "      <td>MANUAL</td>\n",
       "      <td>rear wheel drive</td>\n",
       "      <td>2.0</td>\n",
       "      <td>Factory Tuner,Luxury,High-Performance</td>\n",
       "      <td>Compact</td>\n",
       "      <td>Coupe</td>\n",
       "      <td>26</td>\n",
       "      <td>19</td>\n",
       "      <td>3916</td>\n",
       "      <td>46135</td>\n",
       "    </tr>\n",
       "    <tr>\n",
       "      <th>1</th>\n",
       "      <td>BMW</td>\n",
       "      <td>1 Series</td>\n",
       "      <td>2011</td>\n",
       "      <td>premium unleaded (required)</td>\n",
       "      <td>300.0</td>\n",
       "      <td>6.0</td>\n",
       "      <td>MANUAL</td>\n",
       "      <td>rear wheel drive</td>\n",
       "      <td>2.0</td>\n",
       "      <td>Luxury,Performance</td>\n",
       "      <td>Compact</td>\n",
       "      <td>Convertible</td>\n",
       "      <td>28</td>\n",
       "      <td>19</td>\n",
       "      <td>3916</td>\n",
       "      <td>40650</td>\n",
       "    </tr>\n",
       "    <tr>\n",
       "      <th>2</th>\n",
       "      <td>BMW</td>\n",
       "      <td>1 Series</td>\n",
       "      <td>2011</td>\n",
       "      <td>premium unleaded (required)</td>\n",
       "      <td>300.0</td>\n",
       "      <td>6.0</td>\n",
       "      <td>MANUAL</td>\n",
       "      <td>rear wheel drive</td>\n",
       "      <td>2.0</td>\n",
       "      <td>Luxury,High-Performance</td>\n",
       "      <td>Compact</td>\n",
       "      <td>Coupe</td>\n",
       "      <td>28</td>\n",
       "      <td>20</td>\n",
       "      <td>3916</td>\n",
       "      <td>36350</td>\n",
       "    </tr>\n",
       "    <tr>\n",
       "      <th>3</th>\n",
       "      <td>BMW</td>\n",
       "      <td>1 Series</td>\n",
       "      <td>2011</td>\n",
       "      <td>premium unleaded (required)</td>\n",
       "      <td>230.0</td>\n",
       "      <td>6.0</td>\n",
       "      <td>MANUAL</td>\n",
       "      <td>rear wheel drive</td>\n",
       "      <td>2.0</td>\n",
       "      <td>Luxury,Performance</td>\n",
       "      <td>Compact</td>\n",
       "      <td>Coupe</td>\n",
       "      <td>28</td>\n",
       "      <td>18</td>\n",
       "      <td>3916</td>\n",
       "      <td>29450</td>\n",
       "    </tr>\n",
       "    <tr>\n",
       "      <th>4</th>\n",
       "      <td>BMW</td>\n",
       "      <td>1 Series</td>\n",
       "      <td>2011</td>\n",
       "      <td>premium unleaded (required)</td>\n",
       "      <td>230.0</td>\n",
       "      <td>6.0</td>\n",
       "      <td>MANUAL</td>\n",
       "      <td>rear wheel drive</td>\n",
       "      <td>2.0</td>\n",
       "      <td>Luxury</td>\n",
       "      <td>Compact</td>\n",
       "      <td>Convertible</td>\n",
       "      <td>28</td>\n",
       "      <td>18</td>\n",
       "      <td>3916</td>\n",
       "      <td>34500</td>\n",
       "    </tr>\n",
       "  </tbody>\n",
       "</table>\n",
       "</div>"
      ],
      "text/plain": [
       "  Make       Model  Year             Engine Fuel Type  Engine HP  \\\n",
       "0  BMW  1 Series M  2011  premium unleaded (required)      335.0   \n",
       "1  BMW    1 Series  2011  premium unleaded (required)      300.0   \n",
       "2  BMW    1 Series  2011  premium unleaded (required)      300.0   \n",
       "3  BMW    1 Series  2011  premium unleaded (required)      230.0   \n",
       "4  BMW    1 Series  2011  premium unleaded (required)      230.0   \n",
       "\n",
       "   Engine Cylinders Transmission Type     Driven_Wheels  Number of Doors  \\\n",
       "0               6.0            MANUAL  rear wheel drive              2.0   \n",
       "1               6.0            MANUAL  rear wheel drive              2.0   \n",
       "2               6.0            MANUAL  rear wheel drive              2.0   \n",
       "3               6.0            MANUAL  rear wheel drive              2.0   \n",
       "4               6.0            MANUAL  rear wheel drive              2.0   \n",
       "\n",
       "                         Market Category Vehicle Size Vehicle Style  \\\n",
       "0  Factory Tuner,Luxury,High-Performance      Compact         Coupe   \n",
       "1                     Luxury,Performance      Compact   Convertible   \n",
       "2                Luxury,High-Performance      Compact         Coupe   \n",
       "3                     Luxury,Performance      Compact         Coupe   \n",
       "4                                 Luxury      Compact   Convertible   \n",
       "\n",
       "   highway MPG  city mpg  Popularity   MSRP  \n",
       "0           26        19        3916  46135  \n",
       "1           28        19        3916  40650  \n",
       "2           28        20        3916  36350  \n",
       "3           28        18        3916  29450  \n",
       "4           28        18        3916  34500  "
      ]
     },
     "execution_count": 3,
     "metadata": {},
     "output_type": "execute_result"
    }
   ],
   "source": [
    "data.head(5)"
   ]
  },
  {
   "cell_type": "markdown",
   "metadata": {},
   "source": [
    "## 1.0: Pre-processing\n",
    "1.1 Remove and/or Pre-process N/A variables"
   ]
  },
  {
   "cell_type": "code",
   "execution_count": 4,
   "metadata": {},
   "outputs": [
    {
     "data": {
      "text/plain": [
       "Make                    0\n",
       "Model                   0\n",
       "Year                    0\n",
       "Engine Fuel Type        3\n",
       "Engine HP              69\n",
       "Engine Cylinders       30\n",
       "Transmission Type       0\n",
       "Driven_Wheels           0\n",
       "Number of Doors         6\n",
       "Market Category      3742\n",
       "Vehicle Size            0\n",
       "Vehicle Style           0\n",
       "highway MPG             0\n",
       "city mpg                0\n",
       "Popularity              0\n",
       "MSRP                    0\n",
       "dtype: int64"
      ]
     },
     "execution_count": 4,
     "metadata": {},
     "output_type": "execute_result"
    }
   ],
   "source": [
    "## Provides a summary of where the N/A values lie\n",
    "data.isnull().sum()"
   ]
  },
  {
   "cell_type": "markdown",
   "metadata": {},
   "source": [
    "It can be seen that market Category has the highest number of missing variables.\n",
    "They are changed to 'Other' Category using the FillNa function"
   ]
  },
  {
   "cell_type": "code",
   "execution_count": 5,
   "metadata": {},
   "outputs": [],
   "source": [
    "## Fills the N/A values in Market Category to other\n",
    "data['Market Category']=data['Market Category'].fillna('Other')\n",
    "data['Engine Fuel Type']= data['Engine Fuel Type'].fillna('Other')"
   ]
  },
  {
   "cell_type": "code",
   "execution_count": 6,
   "metadata": {},
   "outputs": [
    {
     "data": {
      "text/plain": [
       "Make                  0\n",
       "Model                 0\n",
       "Year                  0\n",
       "Engine Fuel Type      0\n",
       "Engine HP            69\n",
       "Engine Cylinders     30\n",
       "Transmission Type     0\n",
       "Driven_Wheels         0\n",
       "Number of Doors       6\n",
       "Market Category       0\n",
       "Vehicle Size          0\n",
       "Vehicle Style         0\n",
       "highway MPG           0\n",
       "city mpg              0\n",
       "Popularity            0\n",
       "MSRP                  0\n",
       "dtype: int64"
      ]
     },
     "execution_count": 6,
     "metadata": {},
     "output_type": "execute_result"
    }
   ],
   "source": [
    "## Provides a visual check of pre-processing the variables\n",
    "data.isnull().sum()"
   ]
  },
  {
   "cell_type": "markdown",
   "metadata": {},
   "source": [
    "1.2 Variables are separated into Categorical and Numeric variables;\n",
    "    Categorical variables would need to be treated on an individual basis (as shown above) whereas the\n",
    "    missing values for Numeric variables can be replaced with their median/mean values"
   ]
  },
  {
   "cell_type": "code",
   "execution_count": 7,
   "metadata": {},
   "outputs": [],
   "source": [
    "categorical_variables= ['Make','Model','Engine Fuel Type','Transmission Type','Vehicle Size',\n",
    "                       'Vehicle Style']\n",
    "numeric_variables= ['Year','Engine HP','Number of Doors','highway MPG',\n",
    "                    'city mpg','Popularity','Engine Cylinders']"
   ]
  },
  {
   "cell_type": "markdown",
   "metadata": {},
   "source": [
    "1.3 Separate MSRP into labels\n",
    "\n",
    "The data contains all the car data, X = x1,x2,....xn\n",
    "\n",
    "The MSRP is the actual price of a car that we will be predicting, Y"
   ]
  },
  {
   "cell_type": "code",
   "execution_count": 8,
   "metadata": {},
   "outputs": [],
   "source": [
    "MSRP= data['MSRP']\n",
    "data= data.drop('MSRP', axis=1)\n"
   ]
  },
  {
   "cell_type": "markdown",
   "metadata": {},
   "source": [
    "#### 2.0 Setup\n",
    "\n",
    "The first step is to create a Pipeline. \n",
    "A pipeline is a sequence of data processing components.\n",
    "It allows us to simplify data manipulations and transformations.\n",
    "Two pipelines will be created:\n",
    "One for Categorical variables and one for Numeric variables"
   ]
  },
  {
   "cell_type": "markdown",
   "metadata": {},
   "source": [
    "**2.1**: Pipeline setup"
   ]
  },
  {
   "cell_type": "code",
   "execution_count": 9,
   "metadata": {},
   "outputs": [],
   "source": [
    "\n",
    "from sklearn.base import BaseEstimator, TransformerMixin\n",
    "from sklearn.pipeline import Pipeline\n",
    "from sklearn.preprocessing import StandardScaler\n",
    "from sklearn.preprocessing import Imputer\n",
    "from sklearn.pipeline import FeatureUnion\n",
    "\n",
    "\n",
    "class DataFrameSelector(BaseEstimator, TransformerMixin):\n",
    "    def __init__(self, attribute_names):\n",
    "        self.attribute_names = attribute_names\n",
    "    def fit(self, X, y=None):\n",
    "        return self\n",
    "    def transform(self, X):\n",
    "        return X[self.attribute_names].values"
   ]
  },
  {
   "cell_type": "markdown",
   "metadata": {},
   "source": [
    "**2.2** Numeric Pipeline\n",
    "\n",
    "1. The selector selects and transforms the data from a DataFrame to a NumPy Array\n",
    "2. Imputer replaces missing values with the median value\n",
    "3. Standard scaler scales the values between 0 and 1"
   ]
  },
  {
   "cell_type": "code",
   "execution_count": 10,
   "metadata": {},
   "outputs": [
    {
     "name": "stderr",
     "output_type": "stream",
     "text": [
      "C:\\anaconda3\\lib\\site-packages\\sklearn\\utils\\deprecation.py:66: DeprecationWarning: Class Imputer is deprecated; Imputer was deprecated in version 0.20 and will be removed in 0.22. Import impute.SimpleImputer from sklearn instead.\n",
      "  warnings.warn(msg, category=DeprecationWarning)\n"
     ]
    },
    {
     "data": {
      "text/plain": [
       "(11914, 7)"
      ]
     },
     "execution_count": 10,
     "metadata": {},
     "output_type": "execute_result"
    }
   ],
   "source": [
    "\n",
    "numeric_pipeline= Pipeline([\n",
    "    ('selector',DataFrameSelector(numeric_variables)),\n",
    "    ('imputer',Imputer(strategy='median')),\n",
    "    ('std_scaler', StandardScaler()),\n",
    "    \n",
    "])\n",
    "\n",
    "numeric_data= numeric_pipeline.fit_transform(data)\n",
    "numeric_data.shape"
   ]
  },
  {
   "cell_type": "markdown",
   "metadata": {},
   "source": [
    "**2.3** Categorical Pipeline\n",
    "\n",
    "1. The selector selects and transforms the data from a DataFrame to a NumPy Array\n",
    "\n",
    "2. The ***MultilabelBinarizer*** is multiple label version of OneHot encoder.\n",
    "   It transforms the categorical values into Binary columns of their own.\n",
    "   This leads to more variables or features but make it easier for Machine learning algorithms to process since they are now encoded as numbers instead of text.\n",
    "   \n",
    "   For example the field *Make* would be transformed into:\n",
    "   \n",
    "   *Make* = ['Honda','BMW','Toyota'] -> array ([1,0,0],[0,1,0],[0,0,1])\n",
    "                                      \n",
    "                                  \n",
    "\n",
    "Reference:\n",
    "1. Source: https://stackoverflow.com/questions/46162855/fit-transform-takes-2-positional-arguments-but-3-were-given-with-labelbinarize"
   ]
  },
  {
   "cell_type": "code",
   "execution_count": 11,
   "metadata": {},
   "outputs": [
    {
     "data": {
      "text/plain": [
       "(11914, 995)"
      ]
     },
     "execution_count": 11,
     "metadata": {},
     "output_type": "execute_result"
    }
   ],
   "source": [
    "\n",
    "\n",
    "from sklearn.base import TransformerMixin #gives fit_transform method for free\n",
    "from sklearn.preprocessing import MultiLabelBinarizer\n",
    "\n",
    "class MyLabelBinarizer(TransformerMixin):\n",
    "    def __init__(self, *args, **kwargs):\n",
    "        self.encoder = MultiLabelBinarizer(*args, **kwargs)\n",
    "    def fit(self, x, y=0):\n",
    "        self.encoder.fit(x)\n",
    "        return self\n",
    "    def transform(self, x, y=0):\n",
    "        return self.encoder.transform(x)\n",
    "\n",
    "categorical_pipeline= Pipeline([\n",
    "    ('selector',DataFrameSelector(categorical_variables)),\n",
    "    ('label_binarizer', MyLabelBinarizer()),\n",
    "])\n",
    "\n",
    "\n",
    "categoric_data= categorical_pipeline.fit_transform(data[categorical_variables])\n",
    "\n",
    "categoric_data.shape\n",
    "\n"
   ]
  },
  {
   "cell_type": "markdown",
   "metadata": {},
   "source": [
    "**2.4** Full pipeline\n",
    "\n",
    "***FeatureUnion*** combines the numeric and the categorical transformations into a full pipeline (which contains both, numeric and categorical variables)"
   ]
  },
  {
   "cell_type": "code",
   "execution_count": 12,
   "metadata": {},
   "outputs": [
    {
     "data": {
      "text/plain": [
       "(11914, 1002)"
      ]
     },
     "execution_count": 12,
     "metadata": {},
     "output_type": "execute_result"
    }
   ],
   "source": [
    "full_pipeline= FeatureUnion(transformer_list=\n",
    "                            [\n",
    "                           ('num_pipeline', numeric_pipeline),\n",
    "                           ('cat_pipeline', categorical_pipeline),\n",
    "                            ])\n",
    "\n",
    "\n",
    "data_ml_prepared= full_pipeline.fit_transform(data)\n",
    "data_ml_prepared.shape"
   ]
  },
  {
   "cell_type": "markdown",
   "metadata": {},
   "source": [
    "1.4 Split into training and test set\n",
    "\n",
    "In order to avoid overfitting the data and/or avoid a snooping bias, which is training your model on a particular Machine learning model on pre-conceived perceptions on the data, A **Train_test_split** function is used to randomly separate the data into a training set and a test set.\n",
    "\n",
    "For replication purposes, A random state is chosen and a standard 80:20 ratio between the training and the test sample is selected."
   ]
  },
  {
   "cell_type": "code",
   "execution_count": 13,
   "metadata": {},
   "outputs": [],
   "source": [
    "from sklearn.model_selection import train_test_split\n",
    "\n",
    "train_data, test_data, MSRP_train,MSRP_test= train_test_split(np.array(data_ml_prepared),np.array(MSRP),\n",
    "                                                              test_size=0.2,random_state=42)"
   ]
  },
  {
   "cell_type": "code",
   "execution_count": 14,
   "metadata": {},
   "outputs": [
    {
     "name": "stdout",
     "output_type": "stream",
     "text": [
      "(9531, 1002) (2383, 1002)\n"
     ]
    }
   ],
   "source": [
    "print(train_data.shape,test_data.shape)"
   ]
  },
  {
   "cell_type": "code",
   "execution_count": 15,
   "metadata": {},
   "outputs": [
    {
     "name": "stdout",
     "output_type": "stream",
     "text": [
      "(9531,) (2383,)\n"
     ]
    }
   ],
   "source": [
    "print(MSRP_train.shape, MSRP_test.shape)"
   ]
  },
  {
   "cell_type": "code",
   "execution_count": 16,
   "metadata": {},
   "outputs": [],
   "source": [
    "## Map data type as float64\n",
    "\n",
    "train_data= train_data.astype('float64')\n",
    "test_data= test_data.astype('float64')\n",
    "MSRP_train= MSRP_train.astype('float64')\n",
    "MSRP_test= MSRP_test.astype('float64')"
   ]
  },
  {
   "cell_type": "markdown",
   "metadata": {},
   "source": [
    "##  3.0 Linear regression\n",
    "\n"
   ]
  },
  {
   "cell_type": "markdown",
   "metadata": {},
   "source": [
    "3.1 Train the model"
   ]
  },
  {
   "cell_type": "code",
   "execution_count": 17,
   "metadata": {},
   "outputs": [
    {
     "data": {
      "text/plain": [
       "LinearRegression(copy_X=True, fit_intercept=True, n_jobs=-1, normalize=True)"
      ]
     },
     "execution_count": 17,
     "metadata": {},
     "output_type": "execute_result"
    }
   ],
   "source": [
    "from sklearn.linear_model import LinearRegression\n",
    "\n",
    "lin_reg= LinearRegression(normalize= True, n_jobs=-1,fit_intercept=True)\n",
    "\n",
    "lin_reg.fit(train_data,MSRP_train)\n"
   ]
  },
  {
   "cell_type": "markdown",
   "metadata": {},
   "source": [
    "3.2 Test the model"
   ]
  },
  {
   "cell_type": "code",
   "execution_count": 18,
   "metadata": {},
   "outputs": [
    {
     "name": "stdout",
     "output_type": "stream",
     "text": [
      "Mean Squared Error: 1.765746871492409e+17 \n",
      " R^2 error: -1.3080639721426004e+25\n"
     ]
    }
   ],
   "source": [
    "from sklearn.metrics import mean_squared_error,r2_score\n",
    "\n",
    "car_msrp_predictions= lin_reg.predict(test_data)\n",
    "\n",
    "from sklearn.metrics import mean_squared_error\n",
    "\n",
    "lin_mse= mean_squared_error(MSRP_test,car_msrp_predictions)\n",
    "lin_rmse= np.sqrt(lin_mse)\n",
    "\n",
    "print(\"Mean Squared Error:\",lin_rmse,\"\\n\",\n",
    "      \"R^2 error:\",r2_score(MSRP_test,car_msrp_predictions))"
   ]
  },
  {
   "cell_type": "markdown",
   "metadata": {},
   "source": [
    "Right off the bat, it can be clearly seen that something went wrong.\n",
    "The mean squared error and the R^2 error are exceptionally high values.\n",
    "\n"
   ]
  },
  {
   "cell_type": "markdown",
   "metadata": {},
   "source": [
    "**2.3 Fix issues**:\n",
    "\n",
    "The following steps will be taken to investigate what went wrong:\n",
    "\n",
    "1. Compare and contrast % difference between y_actual and y_predict.\n",
    "2. General prediction trends\n",
    "3. Extract the outliers\n",
    "\n"
   ]
  },
  {
   "cell_type": "code",
   "execution_count": 19,
   "metadata": {},
   "outputs": [
    {
     "data": {
      "text/html": [
       "<div>\n",
       "<style scoped>\n",
       "    .dataframe tbody tr th:only-of-type {\n",
       "        vertical-align: middle;\n",
       "    }\n",
       "\n",
       "    .dataframe tbody tr th {\n",
       "        vertical-align: top;\n",
       "    }\n",
       "\n",
       "    .dataframe thead th {\n",
       "        text-align: right;\n",
       "    }\n",
       "</style>\n",
       "<table border=\"1\" class=\"dataframe\">\n",
       "  <thead>\n",
       "    <tr style=\"text-align: right;\">\n",
       "      <th></th>\n",
       "      <th>y_actual</th>\n",
       "      <th>y_predict</th>\n",
       "      <th>% difference</th>\n",
       "    </tr>\n",
       "  </thead>\n",
       "  <tbody>\n",
       "    <tr>\n",
       "      <th>0</th>\n",
       "      <td>29695.0</td>\n",
       "      <td>31496.0</td>\n",
       "      <td>-6.1</td>\n",
       "    </tr>\n",
       "    <tr>\n",
       "      <th>1</th>\n",
       "      <td>30495.0</td>\n",
       "      <td>25160.0</td>\n",
       "      <td>17.5</td>\n",
       "    </tr>\n",
       "    <tr>\n",
       "      <th>2</th>\n",
       "      <td>37650.0</td>\n",
       "      <td>37768.0</td>\n",
       "      <td>-0.3</td>\n",
       "    </tr>\n",
       "    <tr>\n",
       "      <th>3</th>\n",
       "      <td>16170.0</td>\n",
       "      <td>19296.0</td>\n",
       "      <td>-19.3</td>\n",
       "    </tr>\n",
       "    <tr>\n",
       "      <th>4</th>\n",
       "      <td>2000.0</td>\n",
       "      <td>6448.0</td>\n",
       "      <td>-222.4</td>\n",
       "    </tr>\n",
       "    <tr>\n",
       "      <th>...</th>\n",
       "      <td>...</td>\n",
       "      <td>...</td>\n",
       "      <td>...</td>\n",
       "    </tr>\n",
       "    <tr>\n",
       "      <th>2378</th>\n",
       "      <td>35550.0</td>\n",
       "      <td>38160.0</td>\n",
       "      <td>-7.3</td>\n",
       "    </tr>\n",
       "    <tr>\n",
       "      <th>2379</th>\n",
       "      <td>48360.0</td>\n",
       "      <td>56944.0</td>\n",
       "      <td>-17.8</td>\n",
       "    </tr>\n",
       "    <tr>\n",
       "      <th>2380</th>\n",
       "      <td>31750.0</td>\n",
       "      <td>19736.0</td>\n",
       "      <td>37.8</td>\n",
       "    </tr>\n",
       "    <tr>\n",
       "      <th>2381</th>\n",
       "      <td>20995.0</td>\n",
       "      <td>22648.0</td>\n",
       "      <td>-7.9</td>\n",
       "    </tr>\n",
       "    <tr>\n",
       "      <th>2382</th>\n",
       "      <td>57700.0</td>\n",
       "      <td>55856.0</td>\n",
       "      <td>3.2</td>\n",
       "    </tr>\n",
       "  </tbody>\n",
       "</table>\n",
       "<p>2383 rows × 3 columns</p>\n",
       "</div>"
      ],
      "text/plain": [
       "      y_actual  y_predict  % difference\n",
       "0      29695.0    31496.0          -6.1\n",
       "1      30495.0    25160.0          17.5\n",
       "2      37650.0    37768.0          -0.3\n",
       "3      16170.0    19296.0         -19.3\n",
       "4       2000.0     6448.0        -222.4\n",
       "...        ...        ...           ...\n",
       "2378   35550.0    38160.0          -7.3\n",
       "2379   48360.0    56944.0         -17.8\n",
       "2380   31750.0    19736.0          37.8\n",
       "2381   20995.0    22648.0          -7.9\n",
       "2382   57700.0    55856.0           3.2\n",
       "\n",
       "[2383 rows x 3 columns]"
      ]
     },
     "execution_count": 19,
     "metadata": {},
     "output_type": "execute_result"
    }
   ],
   "source": [
    "error_df= pd.DataFrame({'y_actual':MSRP_test,\n",
    "                        'y_predict':car_msrp_predictions})\n",
    "error_df['% difference']= round(100*(error_df['y_actual'] - error_df['y_predict'])/error_df['y_actual'],1)\n",
    "error_df"
   ]
  },
  {
   "cell_type": "code",
   "execution_count": 20,
   "metadata": {},
   "outputs": [
    {
     "data": {
      "text/html": [
       "<div>\n",
       "<style scoped>\n",
       "    .dataframe tbody tr th:only-of-type {\n",
       "        vertical-align: middle;\n",
       "    }\n",
       "\n",
       "    .dataframe tbody tr th {\n",
       "        vertical-align: top;\n",
       "    }\n",
       "\n",
       "    .dataframe thead th {\n",
       "        text-align: right;\n",
       "    }\n",
       "</style>\n",
       "<table border=\"1\" class=\"dataframe\">\n",
       "  <thead>\n",
       "    <tr style=\"text-align: right;\">\n",
       "      <th></th>\n",
       "      <th>y_actual</th>\n",
       "      <th>y_predict</th>\n",
       "      <th>% difference</th>\n",
       "    </tr>\n",
       "  </thead>\n",
       "  <tbody>\n",
       "    <tr>\n",
       "      <th>627</th>\n",
       "      <td>2000.0</td>\n",
       "      <td>2.898689e+18</td>\n",
       "      <td>-1.449345e+17</td>\n",
       "    </tr>\n",
       "    <tr>\n",
       "      <th>247</th>\n",
       "      <td>2000.0</td>\n",
       "      <td>2.898689e+18</td>\n",
       "      <td>-1.449345e+17</td>\n",
       "    </tr>\n",
       "    <tr>\n",
       "      <th>1784</th>\n",
       "      <td>2000.0</td>\n",
       "      <td>2.898689e+18</td>\n",
       "      <td>-1.449345e+17</td>\n",
       "    </tr>\n",
       "    <tr>\n",
       "      <th>1780</th>\n",
       "      <td>2000.0</td>\n",
       "      <td>9.670682e+17</td>\n",
       "      <td>-4.835341e+16</td>\n",
       "    </tr>\n",
       "    <tr>\n",
       "      <th>1379</th>\n",
       "      <td>36620.0</td>\n",
       "      <td>2.842299e+18</td>\n",
       "      <td>-7.761603e+15</td>\n",
       "    </tr>\n",
       "    <tr>\n",
       "      <th>...</th>\n",
       "      <td>...</td>\n",
       "      <td>...</td>\n",
       "      <td>...</td>\n",
       "    </tr>\n",
       "    <tr>\n",
       "      <th>1523</th>\n",
       "      <td>82700.0</td>\n",
       "      <td>-1.362378e+16</td>\n",
       "      <td>1.647373e+13</td>\n",
       "    </tr>\n",
       "    <tr>\n",
       "      <th>1524</th>\n",
       "      <td>643330.0</td>\n",
       "      <td>-2.295568e+18</td>\n",
       "      <td>3.568259e+14</td>\n",
       "    </tr>\n",
       "    <tr>\n",
       "      <th>873</th>\n",
       "      <td>36625.0</td>\n",
       "      <td>-3.857712e+17</td>\n",
       "      <td>1.053300e+15</td>\n",
       "    </tr>\n",
       "    <tr>\n",
       "      <th>77</th>\n",
       "      <td>36625.0</td>\n",
       "      <td>-3.857712e+17</td>\n",
       "      <td>1.053300e+15</td>\n",
       "    </tr>\n",
       "    <tr>\n",
       "      <th>388</th>\n",
       "      <td>5650.0</td>\n",
       "      <td>-7.166165e+17</td>\n",
       "      <td>1.268348e+16</td>\n",
       "    </tr>\n",
       "  </tbody>\n",
       "</table>\n",
       "<p>2383 rows × 3 columns</p>\n",
       "</div>"
      ],
      "text/plain": [
       "      y_actual     y_predict  % difference\n",
       "627     2000.0  2.898689e+18 -1.449345e+17\n",
       "247     2000.0  2.898689e+18 -1.449345e+17\n",
       "1784    2000.0  2.898689e+18 -1.449345e+17\n",
       "1780    2000.0  9.670682e+17 -4.835341e+16\n",
       "1379   36620.0  2.842299e+18 -7.761603e+15\n",
       "...        ...           ...           ...\n",
       "1523   82700.0 -1.362378e+16  1.647373e+13\n",
       "1524  643330.0 -2.295568e+18  3.568259e+14\n",
       "873    36625.0 -3.857712e+17  1.053300e+15\n",
       "77     36625.0 -3.857712e+17  1.053300e+15\n",
       "388     5650.0 -7.166165e+17  1.268348e+16\n",
       "\n",
       "[2383 rows x 3 columns]"
      ]
     },
     "execution_count": 20,
     "metadata": {},
     "output_type": "execute_result"
    }
   ],
   "source": [
    "error_df.sort_values('% difference',ascending=True)"
   ]
  },
  {
   "cell_type": "code",
   "execution_count": 21,
   "metadata": {},
   "outputs": [
    {
     "data": {
      "text/html": [
       "<div>\n",
       "<style scoped>\n",
       "    .dataframe tbody tr th:only-of-type {\n",
       "        vertical-align: middle;\n",
       "    }\n",
       "\n",
       "    .dataframe tbody tr th {\n",
       "        vertical-align: top;\n",
       "    }\n",
       "\n",
       "    .dataframe thead th {\n",
       "        text-align: right;\n",
       "    }\n",
       "</style>\n",
       "<table border=\"1\" class=\"dataframe\">\n",
       "  <thead>\n",
       "    <tr style=\"text-align: right;\">\n",
       "      <th></th>\n",
       "      <th>y_actual</th>\n",
       "      <th>y_predict</th>\n",
       "      <th>% difference</th>\n",
       "    </tr>\n",
       "  </thead>\n",
       "  <tbody>\n",
       "    <tr>\n",
       "      <th>388</th>\n",
       "      <td>5650.0</td>\n",
       "      <td>-7.166165e+17</td>\n",
       "      <td>1.268348e+16</td>\n",
       "    </tr>\n",
       "    <tr>\n",
       "      <th>77</th>\n",
       "      <td>36625.0</td>\n",
       "      <td>-3.857712e+17</td>\n",
       "      <td>1.053300e+15</td>\n",
       "    </tr>\n",
       "    <tr>\n",
       "      <th>873</th>\n",
       "      <td>36625.0</td>\n",
       "      <td>-3.857712e+17</td>\n",
       "      <td>1.053300e+15</td>\n",
       "    </tr>\n",
       "    <tr>\n",
       "      <th>1524</th>\n",
       "      <td>643330.0</td>\n",
       "      <td>-2.295568e+18</td>\n",
       "      <td>3.568259e+14</td>\n",
       "    </tr>\n",
       "    <tr>\n",
       "      <th>1523</th>\n",
       "      <td>82700.0</td>\n",
       "      <td>-1.362378e+16</td>\n",
       "      <td>1.647373e+13</td>\n",
       "    </tr>\n",
       "    <tr>\n",
       "      <th>...</th>\n",
       "      <td>...</td>\n",
       "      <td>...</td>\n",
       "      <td>...</td>\n",
       "    </tr>\n",
       "    <tr>\n",
       "      <th>1379</th>\n",
       "      <td>36620.0</td>\n",
       "      <td>2.842299e+18</td>\n",
       "      <td>-7.761603e+15</td>\n",
       "    </tr>\n",
       "    <tr>\n",
       "      <th>1780</th>\n",
       "      <td>2000.0</td>\n",
       "      <td>9.670682e+17</td>\n",
       "      <td>-4.835341e+16</td>\n",
       "    </tr>\n",
       "    <tr>\n",
       "      <th>1784</th>\n",
       "      <td>2000.0</td>\n",
       "      <td>2.898689e+18</td>\n",
       "      <td>-1.449345e+17</td>\n",
       "    </tr>\n",
       "    <tr>\n",
       "      <th>247</th>\n",
       "      <td>2000.0</td>\n",
       "      <td>2.898689e+18</td>\n",
       "      <td>-1.449345e+17</td>\n",
       "    </tr>\n",
       "    <tr>\n",
       "      <th>627</th>\n",
       "      <td>2000.0</td>\n",
       "      <td>2.898689e+18</td>\n",
       "      <td>-1.449345e+17</td>\n",
       "    </tr>\n",
       "  </tbody>\n",
       "</table>\n",
       "<p>2383 rows × 3 columns</p>\n",
       "</div>"
      ],
      "text/plain": [
       "      y_actual     y_predict  % difference\n",
       "388     5650.0 -7.166165e+17  1.268348e+16\n",
       "77     36625.0 -3.857712e+17  1.053300e+15\n",
       "873    36625.0 -3.857712e+17  1.053300e+15\n",
       "1524  643330.0 -2.295568e+18  3.568259e+14\n",
       "1523   82700.0 -1.362378e+16  1.647373e+13\n",
       "...        ...           ...           ...\n",
       "1379   36620.0  2.842299e+18 -7.761603e+15\n",
       "1780    2000.0  9.670682e+17 -4.835341e+16\n",
       "1784    2000.0  2.898689e+18 -1.449345e+17\n",
       "247     2000.0  2.898689e+18 -1.449345e+17\n",
       "627     2000.0  2.898689e+18 -1.449345e+17\n",
       "\n",
       "[2383 rows x 3 columns]"
      ]
     },
     "execution_count": 21,
     "metadata": {},
     "output_type": "execute_result"
    }
   ],
   "source": [
    "error_df.sort_values('% difference',ascending=False)"
   ]
  },
  {
   "cell_type": "code",
   "execution_count": 24,
   "metadata": {},
   "outputs": [
    {
     "data": {
      "image/png": "[encoded data removed]",
      "text/plain": [
       "<Figure size 1152x432 with 1 Axes>"
      ]
     },
     "metadata": {
      "needs_background": "light"
     },
     "output_type": "display_data"
    }
   ],
   "source": [
    "import matplotlib.pyplot as plt\n",
    "\n",
    "plt.figure(figsize=(16,6))\n",
    "plt.plot(car_msrp_predictions,'o')\n",
    "\n",
    "\n",
    "plt.title('Linear Regression Predictions',fontsize=20)\n",
    "\n",
    "plt.show()\n"
   ]
  },
  {
   "cell_type": "code",
   "execution_count": 35,
   "metadata": {},
   "outputs": [
    {
     "name": "stdout",
     "output_type": "stream",
     "text": [
      "[58, 77, 105, 125, 130] [-232.0, -3.857712140268818e+17, -1480.0, -712.0, -3368.0]\n"
     ]
    }
   ],
   "source": [
    "def show_outliers(data):\n",
    "    df= pd.DataFrame(data)\n",
    "    outliers= []\n",
    "    indexes= []\n",
    "    \n",
    "    for i,number in enumerate(data):\n",
    "        \n",
    "        if (number < 0) or (number> 500000):\n",
    "            outliers.append(number)\n",
    "            indexes.append(i)\n",
    "            \n",
    "        else: \n",
    "            continue \n",
    "            \n",
    "    return indexes,outliers\n",
    "\n",
    "out, ind= show_outliers(car_msrp_predictions)\n",
    "print(out[0:5],ind[0:5])"
   ]
  },
  {
   "cell_type": "code",
   "execution_count": 44,
   "metadata": {},
   "outputs": [
    {
     "name": "stdout",
     "output_type": "stream",
     "text": [
      "3.44\n"
     ]
    }
   ],
   "source": [
    "unstable_values= round(len(out)/len(car_msrp_predictions),4)*100\n",
    "print(unstable_values)"
   ]
  },
  {
   "cell_type": "markdown",
   "metadata": {},
   "source": [
    "**Conclusions:**  \n",
    "Unstable values comprise **3.44%** of the total predictions.\n",
    "\n",
    "Some interesting instances arose:\n",
    "\n",
    "1. Outliers:\n",
    "   Some prediction values were far too high/low:\n",
    "   - They were exceptionally negative values\n",
    "   - They were exceptionally large numbers\n",
    "   \n",
    "2. Prediction accuracy bad for high car prices and low car prices:\n",
    "   Our algorithm did not work properly for high car prices, ~ \\\\$500,000 or low prices ~ $2,000."
   ]
  },
  {
   "cell_type": "markdown",
   "metadata": {},
   "source": [
    "**Solution #1:**  \n",
    "Remove unstable values from the predictions"
   ]
  },
  {
   "cell_type": "code",
   "execution_count": 45,
   "metadata": {},
   "outputs": [],
   "source": [
    "def remove_outliers(data):\n",
    "    df= pd.DataFrame(data)\n",
    "    stable_data= []\n",
    "    indexes= []\n",
    "    \n",
    "    for i,number in enumerate(data):\n",
    "        \n",
    "        if (number > 0) and (number < 500000):\n",
    "            stable_data.append(number)\n",
    "            indexes.append(i)  \n",
    "        else: \n",
    "            continue \n",
    "            \n",
    "    return indexes,stable_data\n",
    "\n",
    "ind,out= remove_outliers(car_msrp_predictions)\n"
   ]
  },
  {
   "cell_type": "markdown",
   "metadata": {},
   "source": [
    "***ind*** gives us the index of our predictions which are stable."
   ]
  },
  {
   "cell_type": "code",
   "execution_count": 46,
   "metadata": {},
   "outputs": [
    {
     "name": "stdout",
     "output_type": "stream",
     "text": [
      "Mean Squared Error: 6556.915021211828 \n",
      " R^2 error: 0.9800946643708693\n"
     ]
    }
   ],
   "source": [
    "lin_mse= mean_squared_error(MSRP_test[ind],car_msrp_predictions[ind])\n",
    "lin_rmse= np.sqrt(lin_mse)\n",
    "\n",
    "print(\"Mean Squared Error:\",lin_rmse,\"\\n\",\n",
    "      \"R^2 error:\",r2_score(MSRP_test[ind],car_msrp_predictions[ind]))"
   ]
  },
  {
   "cell_type": "markdown",
   "metadata": {},
   "source": [
    "**Conclusion**: The mean Squared error and the R^2 of the stable values is significantly better.\n"
   ]
  },
  {
   "cell_type": "code",
   "execution_count": 52,
   "metadata": {},
   "outputs": [
    {
     "data": {
      "image/png": "[encoded data removed]",
      "text/plain": [
       "<Figure size 1152x432 with 1 Axes>"
      ]
     },
     "metadata": {
      "needs_background": "light"
     },
     "output_type": "display_data"
    }
   ],
   "source": [
    "plt.figure(figsize=(16,6))\n",
    "plt.plot(car_msrp_predictions[ind],MSRP_test[ind],'o',alpha=0.4)\n",
    "\n",
    "\n",
    "plt.title('Model 1: Linear regression \\n(Unstable predictions removed)\\n Performance',fontsize=20)\n",
    "\n",
    "plt.show()"
   ]
  },
  {
   "cell_type": "markdown",
   "metadata": {},
   "source": [
    "**Conclusion:**  \n",
    "Based on the plot being a straight line, we can say that linear regression performs fairly well.\n",
    "It has an accuracy of ~ $6,500. \n",
    "In order to improve it further and without having to resort to removing unstable values, we can:\n",
    "\n",
    "1. Use a correlation matrix and drop some variables\n",
    "2. Try out a different algorithm"
   ]
  },
  {
   "cell_type": "markdown",
   "metadata": {},
   "source": [
    "## 4.0 Elastic Net"
   ]
  },
  {
   "cell_type": "markdown",
   "metadata": {},
   "source": [
    "4.1 Train the model"
   ]
  },
  {
   "cell_type": "code",
   "execution_count": 77,
   "metadata": {},
   "outputs": [
    {
     "data": {
      "text/plain": [
       "ElasticNet(alpha=0.1, copy_X=True, fit_intercept=True, l1_ratio=0.5,\n",
       "           max_iter=1000, normalize=False, positive=False, precompute=False,\n",
       "           random_state=None, selection='cyclic', tol=0.0001, warm_start=False)"
      ]
     },
     "execution_count": 77,
     "metadata": {},
     "output_type": "execute_result"
    }
   ],
   "source": [
    "from sklearn.linear_model import ElasticNet\n",
    "\n",
    "elastic_net= ElasticNet(alpha=0.1,l1_ratio=0.5)\n",
    "elastic_net.fit(train_data,MSRP_train)"
   ]
  },
  {
   "cell_type": "markdown",
   "metadata": {},
   "source": [
    "4.2 Test the model"
   ]
  },
  {
   "cell_type": "code",
   "execution_count": 78,
   "metadata": {},
   "outputs": [
    {
     "name": "stdout",
     "output_type": "stream",
     "text": [
      "Mean Squared Error: 27481.67123464458 \n",
      " R^2 error: 0.6831465991743271\n"
     ]
    }
   ],
   "source": [
    "from sklearn.metrics import mean_squared_error\n",
    "\n",
    "elastic_net_msrp_predictions= elastic_net.predict(test_data)\n",
    "\n",
    "\n",
    "elastic_mse= mean_squared_error(MSRP_test,elastic_net_msrp_predictions)\n",
    "elastic_rmse= np.sqrt(elastic_mse)\n",
    "\n",
    "print(\"Mean Squared Error:\",elastic_rmse,\"\\n\",\n",
    "      \"R^2 error:\",r2_score(MSRP_test,elastic_net_msrp_predictions))\n"
   ]
  },
  {
   "cell_type": "code",
   "execution_count": 76,
   "metadata": {},
   "outputs": [
    {
     "data": {
      "image/png": "[encoded data removed]",
      "text/plain": [
       "<Figure size 1152x432 with 1 Axes>"
      ]
     },
     "metadata": {
      "needs_background": "light"
     },
     "output_type": "display_data"
    }
   ],
   "source": [
    "plt.figure(figsize=(16,6))\n",
    "plt.plot(elastic_net_msrp_predictions,MSRP_test,'o',alpha=0.4)\n",
    "\n",
    "\n",
    "plt.title('Model 2: Elastic net Performance',fontsize=20)\n",
    "\n",
    "plt.show()"
   ]
  },
  {
   "cell_type": "markdown",
   "metadata": {},
   "source": [
    "**Conclusion**: Elastic net performs poorly. However it can be improved via the following methods:  \n",
    "1. Finetuning the parameters using gridSearch  \n",
    "   (grid search minimizes the cost function by trying out different Hyperparameters)\n",
    "   \n",
    "   \n",
    "2. Setting predictions less than 0 to 0.\n",
    "\n"
   ]
  },
  {
   "cell_type": "markdown",
   "metadata": {},
   "source": [
    "## 5.0: Random Forest Regression"
   ]
  },
  {
   "cell_type": "markdown",
   "metadata": {},
   "source": [
    "**5.1:** Train the model"
   ]
  },
  {
   "cell_type": "code",
   "execution_count": 66,
   "metadata": {},
   "outputs": [
    {
     "data": {
      "text/plain": [
       "RandomForestRegressor(bootstrap=True, criterion='mse', max_depth=None,\n",
       "                      max_features='auto', max_leaf_nodes=None,\n",
       "                      min_impurity_decrease=0.0, min_impurity_split=None,\n",
       "                      min_samples_leaf=1, min_samples_split=2,\n",
       "                      min_weight_fraction_leaf=0.0, n_estimators=1000,\n",
       "                      n_jobs=-1, oob_score=False, random_state=None, verbose=0,\n",
       "                      warm_start=False)"
      ]
     },
     "execution_count": 66,
     "metadata": {},
     "output_type": "execute_result"
    }
   ],
   "source": [
    "from sklearn.ensemble import RandomForestRegressor\n",
    "\n",
    "forest_reg= RandomForestRegressor(n_estimators=1000,n_jobs=-1)\n",
    "\n",
    "forest_reg.fit(train_data,MSRP_train)"
   ]
  },
  {
   "cell_type": "markdown",
   "metadata": {},
   "source": [
    "5.2: Test the model"
   ]
  },
  {
   "cell_type": "code",
   "execution_count": 67,
   "metadata": {},
   "outputs": [
    {
     "name": "stdout",
     "output_type": "stream",
     "text": [
      "Mean Squared Error: 8223.054068894922 \n",
      " R^2 error: 0.6831465991743271\n"
     ]
    }
   ],
   "source": [
    "forest_msrp_predictions= forest_reg.predict(test_data)\n",
    "\n",
    "forest_mse= mean_squared_error(MSRP_test,forest_msrp_predictions)\n",
    "elastic_rmse= np.sqrt(forest_mse)\n",
    "\n",
    "print(\"Mean Squared Error:\",elastic_rmse,\"\\n\",\n",
    "      \"R^2 error:\",r2_score(MSRP_test,elastic_net_msrp_predictions))"
   ]
  },
  {
   "cell_type": "code",
   "execution_count": 68,
   "metadata": {},
   "outputs": [
    {
     "data": {
      "image/png": "[encoded data removed]",
      "text/plain": [
       "<Figure size 1152x432 with 1 Axes>"
      ]
     },
     "metadata": {
      "needs_background": "light"
     },
     "output_type": "display_data"
    }
   ],
   "source": [
    "plt.figure(figsize=(16,6))\n",
    "plt.plot(forest_msrp_predictions,MSRP_test,'o',alpha=0.4)\n",
    "\n",
    "\n",
    "plt.title('Model 3: Random Forest Regressor Performance',fontsize=20)\n",
    "\n",
    "plt.show()"
   ]
  },
  {
   "cell_type": "markdown",
   "metadata": {},
   "source": [
    "**Conclusion**:  \n",
    "    RandomForest regressor by far has given us the best performance.\n",
    "    This is because the model successfully picked the minimum value of a car always being greater than 0 and required\n",
    "    minimal supervision/tuning.  \n",
    "    \n",
    "   It has a prediction accuracy of ~$8,100 which is slightly worse than LinearRegression and a goodness of fit score around ~68%\n",
    "   \n",
    "   RandomForest was trained by playing around with the number of estimators( number of trees in the model)\n",
    "   Values of [10,100,1000] were tested.\n",
    "   Overall, changing the number of trees had minimum impact on improving the accuracy of the model."
   ]
  }
 ],
 "metadata": {
  "kernelspec": {
   "display_name": "Python 3",
   "language": "python",
   "name": "python3"
  },
  "language_info": {
   "codemirror_mode": {
    "name": "ipython",
    "version": 3
   },
   "file_extension": ".py",
   "mimetype": "text/x-python",
   "name": "python",
   "nbconvert_exporter": "python",
   "pygments_lexer": "ipython3",
   "version": "3.6.9"
  }
 },
 "nbformat": 4,
 "nbformat_minor": 2
}
